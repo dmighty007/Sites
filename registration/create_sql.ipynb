{
 "cells": [
  {
   "cell_type": "code",
   "execution_count": 1,
   "metadata": {},
   "outputs": [],
   "source": [
    "import numpy as np"
   ]
  },
  {
   "cell_type": "code",
   "execution_count": 4,
   "metadata": {},
   "outputs": [
    {
     "ename": "NameError",
     "evalue": "name 'i' is not defined",
     "output_type": "error",
     "traceback": [
      "\u001b[0;31m---------------------------------------------------------------------------\u001b[0m",
      "\u001b[0;31mNameError\u001b[0m                                 Traceback (most recent call last)",
      "\u001b[0;32m/tmp/ipykernel_152863/983441118.py\u001b[0m in \u001b[0;36m<module>\u001b[0;34m\u001b[0m\n\u001b[1;32m      1\u001b[0m \u001b[0mfline\u001b[0m \u001b[0;34m=\u001b[0m \u001b[0;34m\"INSERT INTO `articles` (`art_id`, `art_title`, `art_status`) VALUES\"\u001b[0m\u001b[0;34m\u001b[0m\u001b[0;34m\u001b[0m\u001b[0m\n\u001b[0;32m----> 2\u001b[0;31m \u001b[0mreturner\u001b[0m \u001b[0;34m=\u001b[0m \u001b[0;32mlambda\u001b[0m \u001b[0mi\u001b[0m \u001b[0;34m:\u001b[0m \u001b[0mi\u001b[0m\u001b[0;34m,\u001b[0m \u001b[0;34mf\"article_{i}\"\u001b[0m\u001b[0;34m,\u001b[0m \u001b[0;36m0\u001b[0m\u001b[0;34m\u001b[0m\u001b[0;34m\u001b[0m\u001b[0m\n\u001b[0m",
      "\u001b[0;31mNameError\u001b[0m: name 'i' is not defined"
     ]
    }
   ],
   "source": [
    "\"\"\"INSERT INTO `articles` (`art_id`, `art_title`, `art_status`) VALUES\n",
    "(1, 'First Blog', 0'),\n",
    "(2, 'Second Blog', 1'),\n",
    "(3, 'Third Blog', 0'),\n",
    "(4, 'Fourth Blog', 0'),\n",
    "(5, 'Fifth Blog', 1')\"\"\""
   ]
  },
  {
   "cell_type": "code",
   "execution_count": 9,
   "metadata": {},
   "outputs": [],
   "source": [
    "def returner(i):\n",
    "    print(f\"({i}, 'article_{i}', 0),\")"
   ]
  },
  {
   "cell_type": "code",
   "execution_count": 10,
   "metadata": {},
   "outputs": [
    {
     "name": "stdout",
     "output_type": "stream",
     "text": [
      "INSERT INTO `articles` (`art_id`, `art_title`, `art_status`) VALUES\n",
      "(1, 'article_1', 0),\n",
      "(2, 'article_2', 0),\n",
      "(3, 'article_3', 0),\n",
      "(4, 'article_4', 0),\n",
      "(5, 'article_5', 0),\n",
      "(6, 'article_6', 0),\n",
      "(7, 'article_7', 0),\n",
      "(8, 'article_8', 0),\n",
      "(9, 'article_9', 0),\n",
      "(10, 'article_10', 0),\n",
      "(11, 'article_11', 0),\n",
      "(12, 'article_12', 0),\n",
      "(13, 'article_13', 0),\n",
      "(14, 'article_14', 0),\n",
      "(15, 'article_15', 0),\n",
      "(16, 'article_16', 0),\n",
      "(17, 'article_17', 0),\n",
      "(18, 'article_18', 0),\n",
      "(19, 'article_19', 0),\n",
      "(20, 'article_20', 0),\n",
      "(21, 'article_21', 0),\n",
      "(22, 'article_22', 0),\n",
      "(23, 'article_23', 0),\n",
      "(24, 'article_24', 0),\n",
      "(25, 'article_25', 0),\n",
      "(26, 'article_26', 0),\n",
      "(27, 'article_27', 0),\n",
      "(28, 'article_28', 0),\n",
      "(29, 'article_29', 0),\n",
      "(30, 'article_30', 0),\n",
      "(31, 'article_31', 0),\n",
      "(32, 'article_32', 0),\n",
      "(33, 'article_33', 0),\n",
      "(34, 'article_34', 0),\n",
      "(35, 'article_35', 0),\n",
      "(36, 'article_36', 0),\n",
      "(37, 'article_37', 0),\n",
      "(38, 'article_38', 0),\n",
      "(39, 'article_39', 0),\n",
      "(40, 'article_40', 0),\n",
      "(41, 'article_41', 0),\n",
      "(42, 'article_42', 0),\n",
      "(43, 'article_43', 0),\n",
      "(44, 'article_44', 0),\n",
      "(45, 'article_45', 0),\n",
      "(46, 'article_46', 0),\n",
      "(47, 'article_47', 0),\n",
      "(48, 'article_48', 0),\n",
      "(49, 'article_49', 0),\n",
      "(50, 'article_50', 0),\n",
      "(51, 'article_51', 0),\n",
      "(52, 'article_52', 0),\n",
      "(53, 'article_53', 0),\n",
      "(54, 'article_54', 0),\n",
      "(55, 'article_55', 0),\n",
      "(56, 'article_56', 0),\n",
      "(57, 'article_57', 0),\n",
      "(58, 'article_58', 0),\n",
      "(59, 'article_59', 0),\n",
      "(60, 'article_60', 0),\n",
      "(61, 'article_61', 0),\n",
      "(62, 'article_62', 0),\n",
      "(63, 'article_63', 0),\n",
      "(64, 'article_64', 0),\n",
      "(65, 'article_65', 0),\n",
      "(66, 'article_66', 0),\n",
      "(67, 'article_67', 0),\n",
      "(68, 'article_68', 0),\n",
      "(69, 'article_69', 0),\n",
      "(70, 'article_70', 0),\n",
      "(71, 'article_71', 0),\n",
      "(72, 'article_72', 0),\n",
      "(73, 'article_73', 0),\n",
      "(74, 'article_74', 0),\n",
      "(75, 'article_75', 0),\n",
      "(76, 'article_76', 0),\n",
      "(77, 'article_77', 0),\n",
      "(78, 'article_78', 0),\n",
      "(79, 'article_79', 0),\n",
      "(80, 'article_80', 0),\n",
      "(81, 'article_81', 0),\n",
      "(82, 'article_82', 0),\n",
      "(83, 'article_83', 0),\n",
      "(84, 'article_84', 0),\n",
      "(85, 'article_85', 0),\n",
      "(86, 'article_86', 0),\n",
      "(87, 'article_87', 0),\n",
      "(88, 'article_88', 0),\n",
      "(89, 'article_89', 0),\n",
      "(90, 'article_90', 0),\n",
      "(91, 'article_91', 0),\n",
      "(92, 'article_92', 0),\n",
      "(93, 'article_93', 0),\n",
      "(94, 'article_94', 0),\n",
      "(95, 'article_95', 0),\n",
      "(96, 'article_96', 0),\n",
      "(97, 'article_97', 0),\n",
      "(98, 'article_98', 0),\n",
      "(99, 'article_99', 0),\n",
      "(100, 'article_100', 0),\n"
     ]
    }
   ],
   "source": [
    "print(fline)\n",
    "for i in range(1, 101):\n",
    "    returner(i)"
   ]
  },
  {
   "cell_type": "code",
   "execution_count": null,
   "metadata": {},
   "outputs": [],
   "source": []
  }
 ],
 "metadata": {
  "kernelspec": {
   "display_name": "base",
   "language": "python",
   "name": "python3"
  },
  "language_info": {
   "codemirror_mode": {
    "name": "ipython",
    "version": 3
   },
   "file_extension": ".py",
   "mimetype": "text/x-python",
   "name": "python",
   "nbconvert_exporter": "python",
   "pygments_lexer": "ipython3",
   "version": "3.9.13"
  },
  "orig_nbformat": 4
 },
 "nbformat": 4,
 "nbformat_minor": 2
}
